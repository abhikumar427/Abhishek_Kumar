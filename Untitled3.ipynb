{
 "cells": [
  {
   "cell_type": "code",
   "execution_count": 7,
   "metadata": {
    "collapsed": false
   },
   "outputs": [],
   "source": [
    "import networkx as nx\n",
    "\n",
    "\n",
    "def jaccard_wt(graph, node):\n",
    "    \"\"\"\n",
    "    The weighted jaccard score, defined above.\n",
    "    Args:\n",
    "    graph....a networkx graph\n",
    "    node.....a node to score potential new edges for.\n",
    "    Returns:\n",
    "    A list of ((node, ni), score) tuples, representing the \n",
    "              score assigned to edge (node, ni)\n",
    "              (note the edge order)\n",
    "    \"\"\"\n",
    "    pass\n",
    "    \n",
    "    nbrs = set(graph.neighbors(node))\n",
    "    degree = []\n",
    "    print(nbrs)\n",
    "    \n",
    "    for (nodeA,val) in graph.degree():\n",
    "        if no in nbrs:\n",
    "            degree.append(val)\n",
    "        else: \n",
    "            pass\n",
    "    \n",
    "    for n in graph.node():\n",
    "        if (n != node and (node,n) not in graph.edges() and set(graph.neighbors(n))&set(graph.neighbors(node))):\n",
    "            deno1 = 0\n",
    "            deno2 = 0\n",
    "            nbrs2 = set(graph.neighbors(n))\n",
    "            \n",
    "            degree1 = []\n",
    "            n1 = set(nbrs & nbrs2)\n",
    "            for (nodeA,val) in graph.degree():\n",
    "                if nodeA in n1:\n",
    "                    degree1.append(val)\n",
    "                    deno1 = deno1 + 1/val\n",
    "                    \n",
    "            degree2 = [] \n",
    "            n2 = set(nbrs | nbrs2)\n",
    "            for (nodeA,val) in graph.degree():\n",
    "                if nodeA in nbrs2:\n",
    "                    degree2.append(val)\n",
    "                    deno2 = deno2 + 1/val\n",
    "                    \n",
    "            num = 1/sum(degree)\n",
    "            deno1 = 1/sum(degree1)\n",
    "            deno2 = 1/sum(degree2)\n",
    "            \n",
    "            score = []\n",
    "            score.append(((node,n), num /(deno1+deno2)))\n",
    "            finalscore  = []\n",
    "            finalscore=sorted(score, key=lambda x: x[1], reverse=True)\n",
    "\n",
    "    return finalscore\n",
    "    print (finalscore)\n"
   ]
  },
  {
   "cell_type": "code",
   "execution_count": null,
   "metadata": {
    "collapsed": true
   },
   "outputs": [],
   "source": []
  },
  {
   "cell_type": "code",
   "execution_count": null,
   "metadata": {
    "collapsed": true
   },
   "outputs": [],
   "source": []
  }
 ],
 "metadata": {
  "anaconda-cloud": {},
  "kernelspec": {
   "display_name": "Python [Root]",
   "language": "python",
   "name": "Python [Root]"
  }
 },
 "nbformat": 4,
 "nbformat_minor": 0
}
